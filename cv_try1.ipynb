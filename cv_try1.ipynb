{
 "cells": [
  {
   "cell_type": "code",
   "execution_count": 86,
   "metadata": {},
   "outputs": [],
   "source": [
    "import cv2 as cv\n",
    "import numpy as np  \n",
    "from torch.nn import functional\n",
    "from torch import Tensor as Ten"
   ]
  },
  {
   "cell_type": "code",
   "execution_count": 92,
   "metadata": {},
   "outputs": [
    {
     "name": "stdout",
     "output_type": "stream",
     "text": [
      "(4898, 3265, 3)\n",
      "torch.Size([1, 1, 3, 3])\n",
      "(3265, 4898)\n",
      "(3265, 4898)\n",
      "(3265, 4898)\n",
      "(4898, 3265)\n"
     ]
    },
    {
     "data": {
      "text/plain": [
       "-1"
      ]
     },
     "execution_count": 92,
     "metadata": {},
     "output_type": "execute_result"
    }
   ],
   "source": [
    "image1=cv.imread('D:\\\\DATAS\\\\beautiful\\\\image_page38.jpg',1)\n",
    "\n",
    "print(image1.shape)\n",
    "kernel=Ten(np.array([[[[0.15,0.2,0.15],[0.15,0.7,0.15],[0.15,0.2,0.15]]]]))\n",
    "print(kernel.shape)\n",
    "W,H,C=image1.shape\n",
    "image_next=np.zeros((W,H))\n",
    "for x in range(C):\n",
    "    Map1=image1[:,:,x]\n",
    "    Map2=image1[:,:,x].transpose()\n",
    "    for i in range(W-2):\n",
    "        Map1[i]=np.abs(0.7*(Map1[i+1]-Map1[i])+0.3*(Map1[i+2]-Map1[i]))\n",
    "    \n",
    "    for j in range(H-2):\n",
    "        Map2[j]=np.abs(0.7*(Map2[j+1]-Map2[j])+0.3*(Map2[j+2]-Map2[j]))\n",
    "    print(Map2.shape)\n",
    "    All1=np.expand_dims((0.5*Map1+0.5*(Map2.transpose())),axis=[0,1])\n",
    "    # print(All1.shape)\n",
    "    \n",
    "    temp1=functional.conv2d(Ten(All1),weight=kernel,stride=(1,1),padding=(2,2),dilation=2)\n",
    "    image_next+=(0.3333*np.array(temp1).reshape(W,H))\n",
    "    \n",
    "temp2=np.array(image_next).reshape(W,H)\n",
    "# for a in range(W):\n",
    "#     for b in range(H):\n",
    "#         if temp2[a,b]<128:temp2[a,b]=0\n",
    "#         else:temp2[a,b]=255\n",
    "print(temp2.shape)\n",
    "cv.imwrite(\"acv2.jpg\",temp2,)\n",
    "cv.waitKey()"
   ]
  }
 ],
 "metadata": {
  "kernelspec": {
   "display_name": "new_conda1",
   "language": "python",
   "name": "python3"
  },
  "language_info": {
   "codemirror_mode": {
    "name": "ipython",
    "version": 3
   },
   "file_extension": ".py",
   "mimetype": "text/x-python",
   "name": "python",
   "nbconvert_exporter": "python",
   "pygments_lexer": "ipython3",
   "version": "3.9.13 (main, Aug 25 2022, 23:51:50) [MSC v.1916 64 bit (AMD64)]"
  },
  "orig_nbformat": 4,
  "vscode": {
   "interpreter": {
    "hash": "72d023987b5fa208db5d7ed0ffcdf8a28da6a495970eda4d2a720774cacd7371"
   }
  }
 },
 "nbformat": 4,
 "nbformat_minor": 2
}
